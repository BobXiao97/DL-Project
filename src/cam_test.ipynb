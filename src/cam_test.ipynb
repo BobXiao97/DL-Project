{
 "cells": [
  {
   "cell_type": "code",
   "execution_count": 1,
   "metadata": {},
   "outputs": [],
   "source": [
    "import warnings\n",
    "warnings.filterwarnings('ignore')"
   ]
  },
  {
   "cell_type": "code",
   "execution_count": 2,
   "metadata": {},
   "outputs": [
    {
     "name": "stdout",
     "output_type": "stream",
     "text": [
      "Loading label binarizer...\n"
     ]
    }
   ],
   "source": [
    "import torch\n",
    "import joblib\n",
    "import torch.nn as nn\n",
    "import numpy as np\n",
    "import cv2\n",
    "import torch.nn.functional as F\n",
    "import time\n",
    "import cnn_models\n",
    "from rnn_model import WordLSTM\n",
    "from autocorrect import Speller\n",
    "from gensim.corpora import Dictionary\n",
    "import matplotlib.pyplot as plt\n",
    "import time\n",
    "import predict_next_word\n",
    "from predict_next_word import predict\n",
    "from predict_next_word import sample\n",
    "%matplotlib inline"
   ]
  },
  {
   "cell_type": "code",
   "execution_count": 4,
   "metadata": {},
   "outputs": [
    {
     "name": "stdout",
     "output_type": "stream",
     "text": [
      "CustomCNN(\n",
      "  (conv1): Conv2d(3, 16, kernel_size=(5, 5), stride=(1, 1))\n",
      "  (conv2): Conv2d(16, 32, kernel_size=(5, 5), stride=(1, 1))\n",
      "  (conv3): Conv2d(32, 64, kernel_size=(3, 3), stride=(1, 1))\n",
      "  (conv4): Conv2d(64, 128, kernel_size=(5, 5), stride=(1, 1))\n",
      "  (fc1): Linear(in_features=128, out_features=256, bias=True)\n",
      "  (fc2): Linear(in_features=256, out_features=29, bias=True)\n",
      "  (pool): MaxPool2d(kernel_size=2, stride=2, padding=0, dilation=1, ceil_mode=False)\n",
      ")\n",
      "Not found in our dictionary. Try another sign language word sequence.\n",
      "WordLSTM(\n",
      "  (emb_layer): Embedding(16120, 200)\n",
      "  (lstm): LSTM(200, 256, num_layers=4, batch_first=True, dropout=0.3)\n",
      "  (dropout): Dropout(p=0.3, inplace=False)\n",
      "  (fc): Linear(in_features=256, out_features=16120, bias=True)\n",
      ")\n",
      "Model loaded\n",
      "D Added into string\n",
      "nothing Added into string\n",
      "nothing Added into string\n",
      "\n",
      "\n",
      "\n",
      "Predicted Output:-\n",
      "Dnothingnothing\n"
     ]
    }
   ],
   "source": [
    "# load label binarizer\n",
    "pred_text = \"\"\n",
    "lb = joblib.load('../outputs/lb.pkl')\n",
    "model = cnn_models.CustomCNN()\n",
    "model.load_state_dict(torch.load('../outputs/model.pth', map_location=torch.device('cpu')))\n",
    "print(model)\n",
    "rnn_model = WordLSTM()\n",
    "rnn_model.load_state_dict(torch.load('../outputs/word_predictor.pth', map_location=torch.device('cpu')))\n",
    "print(sample(rnn_model,'i'))\n",
    "print(rnn_model)\n",
    "print('Model loaded')\n",
    "\n",
    "def hand_area(img):\n",
    "    hand = img[100:324, 100:324]\n",
    "    hand = cv2.resize(hand, (224,224))\n",
    "    return hand\n",
    "\n",
    "cap = cv2.VideoCapture(0)\n",
    "if (cap.isOpened() == False):\n",
    "    print('Error while trying to open camera. Plese check again...')\n",
    "# get the frame width and height\n",
    "frame_width = int(cap.get(3))\n",
    "frame_height = int(cap.get(4))\n",
    "# define codec and create VideoWriter object\n",
    "out = cv2.VideoWriter('../outputs/asl_'+str(time.time())+'.mp4', cv2.VideoWriter_fourcc(*'mp4v'), 30, (frame_width,frame_height))\n",
    "\n",
    "# 'c' to store registered letter from previous frame\n",
    "c = ''\n",
    "cur_pred_word = ''\n",
    "# Initialize counter to only append registered letter if counter = 30\n",
    "counter = 0\n",
    "spell = Speller()\n",
    "next_word=''\n",
    "# read until end of video\n",
    "while(cap.isOpened()):\n",
    "    # capture each frame of the video\n",
    "    ret, frame = cap.read()\n",
    "    # get the hand area on the video capture screen\n",
    "    cv2.rectangle(frame, (100, 100), (324, 324), (20, 34, 255), 2)\n",
    "    hand = hand_area(frame)\n",
    "    image = hand\n",
    "    \n",
    "    image = np.transpose(image, (2, 0, 1)).astype(np.float32)\n",
    "    image = torch.tensor(image, dtype=torch.float)\n",
    "    image = image.unsqueeze(0)\n",
    "    \n",
    "    outputs = model(image)\n",
    "    _, preds = torch.max(outputs.data, 1)\n",
    "    cv2.putText(frame, lb.classes_[preds], (10, 30), cv2.FONT_HERSHEY_SIMPLEX, 0.9, (0, 0, 255), 2)\n",
    "#     pred_text = pred_text +\" \"+ lb.classes_[preds]\n",
    "    \n",
    "    # Show what is the current string of letters\n",
    "    cv2.putText(frame, \"Current String:\" + pred_text, (10, 400), cv2.FONT_HERSHEY_SIMPLEX, 0.5, (0, 255, 0), 1)\n",
    "    if c == lb.classes_[preds]:\n",
    "        c = lb.classes_[preds]\n",
    "        counter += 1\n",
    "        # Counter for how long a letter must remain in box before registering\n",
    "        if counter == 60:\n",
    "            cv2.putText(frame, \"Letter added: \" + lb.classes_[preds], (10, 60), cv2.FONT_HERSHEY_SIMPLEX, 0.9, (0, 0, 255), 2)\n",
    "            if lb.classes_[preds] == \"space\":\n",
    "                if len(pred_text)!=0:\n",
    "                    next_word=sample(rnn_model,pred_text.lower())\n",
    "                pred_text = pred_text + \" \"\n",
    "            else:\n",
    "                pred_text = pred_text + lb.classes_[preds]\n",
    "            print(lb.classes_[preds] + \" Added into string\")\n",
    "            \n",
    "            # only predict word when letter is added\n",
    "            cur_pred_word = spell(pred_text)\n",
    "            counter = 0\n",
    "\n",
    "    cv2.putText(frame, \"Next possible word:\" + next_word, (10, 460), cv2.FONT_HERSHEY_SIMPLEX, 0.5, (0, 255, 0), 1)\n",
    "    \n",
    "    if c != lb.classes_[preds]:\n",
    "        c = lb.classes_[preds]\n",
    "        counter = 0\n",
    "    \n",
    "    # Display current predicted word\n",
    "    cv2.putText(frame, \"Current Pred Word: \" + cur_pred_word, (10, 430), cv2.FONT_HERSHEY_SIMPLEX, 0.7, (0, 255, 0), 2)\n",
    "\n",
    "    cv2.putText(frame, str(counter) + \"/60\", (150, 30), cv2.FONT_HERSHEY_SIMPLEX, 0.9, (0, 0, 255), 2)\n",
    "        \n",
    "    cv2.imshow('image', frame)\n",
    "    out.write(frame)\n",
    "    # press `q` to exit\n",
    "    if cv2.waitKey(27) & 0xFF == ord('q'):\n",
    "        # Clear cur_pred_word\n",
    "        cur_pred_word = ''\n",
    "        break\n",
    "# release VideoCapture()\n",
    "cap.release()\n",
    "# close all frames and video windows\n",
    "cv2.destroyAllWindows()\n",
    "\n",
    "print(\"\\n\\n\\nPredicted Output:-\")\n",
    "print(pred_text)\n"
   ]
  },
  {
   "cell_type": "code",
   "execution_count": 5,
   "metadata": {},
   "outputs": [
    {
     "data": {
      "text/plain": [
       "''"
      ]
     },
     "execution_count": 5,
     "metadata": {},
     "output_type": "execute_result"
    }
   ],
   "source": [
    "t = str(pred_text)\n",
    "t = t.replace(\"nothing\", \"\")\n",
    "t = t.replace(\"del\", \"\")\n",
    "# t = t.replace(\"space\", \"\")\n",
    "t"
   ]
  },
  {
   "cell_type": "code",
   "execution_count": null,
   "metadata": {},
   "outputs": [],
   "source": []
  },
  {
   "cell_type": "code",
   "execution_count": null,
   "metadata": {},
   "outputs": [],
   "source": []
  }
 ],
 "metadata": {
  "kernelspec": {
   "display_name": "Python 3",
   "language": "python",
   "name": "python3"
  },
  "language_info": {
   "codemirror_mode": {
    "name": "ipython",
    "version": 3
   },
   "file_extension": ".py",
   "mimetype": "text/x-python",
   "name": "python",
   "nbconvert_exporter": "python",
   "pygments_lexer": "ipython3",
   "version": "3.8.3"
  },
  "toc": {
   "base_numbering": 1,
   "nav_menu": {},
   "number_sections": true,
   "sideBar": true,
   "skip_h1_title": false,
   "title_cell": "Table of Contents",
   "title_sidebar": "Contents",
   "toc_cell": false,
   "toc_position": {},
   "toc_section_display": true,
   "toc_window_display": false
  }
 },
 "nbformat": 4,
 "nbformat_minor": 4
}
